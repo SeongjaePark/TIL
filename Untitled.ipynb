{
 "cells": [
  {
   "cell_type": "code",
   "execution_count": 21,
   "metadata": {
    "Collapsed": "false"
   },
   "outputs": [
    {
     "name": "stdout",
     "output_type": "stream",
     "text": [
      "{'my': 'dictionary'}\n"
     ]
    }
   ],
   "source": [
    "import json\n",
    "\n",
    "# 딕셔너리 오브젝트\n",
    "obj = {'my': 'dictionary'}  \n",
    "\n",
    "# obj를 filename.json 파일에 저장\n",
    "with open('filename.json', 'w') as f:\n",
    "    json.dump(obj, f)\n",
    "\n",
    "# filename.json에 있는 오브젝트를 읽어옴 \n",
    "with open('filename.json', 'r') as f:\n",
    "    obj = json.load(f)\n",
    "\n",
    "print(obj)\n",
    "# {'my': 'dictionary'}"
   ]
  },
  {
   "cell_type": "code",
   "execution_count": null,
   "metadata": {
    "Collapsed": "false"
   },
   "outputs": [],
   "source": []
  }
 ],
 "metadata": {
  "kernelspec": {
   "display_name": "Python 3",
   "language": "python",
   "name": "python3"
  },
  "language_info": {
   "codemirror_mode": {
    "name": "ipython",
    "version": 3
   },
   "file_extension": ".py",
   "mimetype": "text/x-python",
   "name": "python",
   "nbconvert_exporter": "python",
   "pygments_lexer": "ipython3",
   "version": "3.7.6"
  }
 },
 "nbformat": 4,
 "nbformat_minor": 4
}
